{
 "cells": [
  {
   "cell_type": "markdown",
   "metadata": {},
   "source": [
    "### fill_betweenx:Fill the area between two vertical curves.\n",
    "\n",
    "fill_betweenx(self, y, x1, x2=0, where=None, step=None, interpolate=False, *, data=None, **kwargs)\n",
    "\n",
    "The curves are defined by the points (x1, y) and (x2, y). This creates one or multiple polygons describing the filled area.\n",
    "\n",
    "You may exclude some vertical sections from filling using where.\n",
    "\n",
    "By default, the edges connect the given points directly. Use step if the filling should be a step function, i.e. constant in between y.\n",
    "\n",
    "由(x1,y)和(x2,y)绘制曲线，将创建一个或多个描述填充区域的多边形。\n",
    "\n",
    "使用where参数排除一些填充的垂直区域\n",
    "\n",
    "边直接连接给定的点，如果填充采用阶跃方式，使用step参数，比如指定y为常量\n",
    "\n",
    "参数：\n",
    "- y:array (length N)\n",
    "\n",
    "The y coordinates of the nodes defining the curves.\n",
    "\n",
    "- x1:array (length N) or scalar\n",
    "\n",
    "The x coordinates of the nodes defining the first curve.\n",
    "\n",
    "- x2:array (length N) or scalar, optional, default: 0\n",
    "\n",
    "The x coordinates of the nodes defining the second curve.\n",
    "\n",
    "- where : array of bool (length N), optional, default: None\n",
    "\n",
    "Define where to exclude some vertical regions from being filled. The filled regions are defined by the coordinates y[where]. More precisely, fill between y[i] and y[i+1] if where[i] and where[i+1]. Note that this definition implies that an isolated True value between two False values in where will not result in filling. Both sides of the True position remain unfilled due to the adjacent False values.\n",
    "\n",
    "- step : {'pre', 'post', 'mid'}, optional\n",
    "\n",
    "    Define step if the filling should be a step function, i.e. constant in between y. The value determines where the step will occur:\n",
    "\n",
    "    'pre': The y value is continued constantly to the left from every x position, i.e. the interval (x[i-1], x[i]] has the value y[i].\n",
    "    'post': The y value is continued constantly to the right from every x position, i.e. the interval [x[i], x[i+1]) has the value y[i].\n",
    "    'mid': Steps occur half-way between the x positions."
   ]
  },
  {
   "cell_type": "code",
   "execution_count": 8,
   "metadata": {},
   "outputs": [
    {
     "data": {
      "image/png": "[encoded data removed]",
      "text/plain": [
       "<Figure size 432x288 with 2 Axes>"
      ]
     },
     "metadata": {
      "needs_background": "light"
     },
     "output_type": "display_data"
    }
   ],
   "source": [
    "import matplotlib.pyplot as plt\n",
    "fig, (ax1, ax2) = plt.subplots(1, 2)\n",
    "ax1.fill_betweenx([1,2,3],[0,1.5,2],[1,2.5,3])\n",
    "ax2.fill_betweenx([1,2,3],[1,2.5,3],[0,1.5,2])\n",
    "plt.show()"
   ]
  }
 ],
 "metadata": {
  "kernelspec": {
   "display_name": "Python 3",
   "language": "python",
   "name": "python3"
  },
  "language_info": {
   "codemirror_mode": {
    "name": "ipython",
    "version": 3
   },
   "file_extension": ".py",
   "mimetype": "text/x-python",
   "name": "python",
   "nbconvert_exporter": "python",
   "pygments_lexer": "ipython3",
   "version": "3.6.4"
  }
 },
 "nbformat": 4,
 "nbformat_minor": 4
}
