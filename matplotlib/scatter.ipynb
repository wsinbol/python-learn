{
 "cells": [
  {
   "cell_type": "markdown",
   "metadata": {},
   "source": [
    "# matplotlib.pyplot-scatter 简易使用教程"
   ]
  },
  {
   "cell_type": "code",
   "execution_count": 1,
   "metadata": {},
   "outputs": [],
   "source": [
    "import matplotlib.pyplot as plt"
   ]
  },
  {
   "cell_type": "markdown",
   "metadata": {},
   "source": [
    "### scatter函数的定义\n",
    "matplotlib.pyplot.scatter(x, y, s=None, c=None, marker=None, cmap=None, \n",
    "                          norm=None, vmin=None, vmax=None, alpha=None, \n",
    "                          linewidths=None, verts=None, edgecolors=None, *, plotnonfinite=False, data=None, **kwargs)\n",
    "- x 表示数据点的横坐标\n",
    "- y 表示数据点的纵坐标\n",
    "\n",
    "绘图时必须指定x和y"
   ]
  },
  {
   "cell_type": "code",
   "execution_count": 17,
   "metadata": {},
   "outputs": [
    {
     "data": {
      "image/png": "[encoded data removed]",
      "text/plain": [
       "<Figure size 432x288 with 1 Axes>"
      ]
     },
     "metadata": {
      "needs_background": "light"
     },
     "output_type": "display_data"
    }
   ],
   "source": [
    "plt.scatter([1,2,3],[4,5,6],s=[100,250,500,900],c=[90.5,30.6,18.9],\n",
    "            linewidths=[0,1,2],edgecolors='black',plotnonfinite=True)\n",
    "plt.show()"
   ]
  },
  {
   "cell_type": "markdown",
   "metadata": {},
   "source": [
    "- s 表示数据点符号的大小，默认是 lines.markersize的平方\n",
    "- c 表示数据点符号颜色，既可以直接用表示颜色的英文字幕全称或简称，也可以用RGB格式\n",
    "- marker 数据点符号的形状，详见 [matplotlib.markers](https://matplotlib.org/3.1.1/api/markers_api.html#module-matplotlib.markers)\n",
    "- cmap 颜色映射,说实话看完api不知道咋用\n",
    "- norm 控制亮度，标准化到0-1区间\n",
    "- vmin, vmax 控制亮度\n",
    "- alpha 透明度\n",
    "- linewidths 外层圆圈的宽度\n",
    "- edgecolors 外层圆圈的颜色\n",
    "- plotnonfinite"
   ]
  },
  {
   "cell_type": "code",
   "execution_count": 70,
   "metadata": {},
   "outputs": [
    {
     "data": {
      "image/png": "[encoded data removed]",
      "text/plain": [
       "<Figure size 432x288 with 3 Axes>"
      ]
     },
     "metadata": {
      "needs_background": "light"
     },
     "output_type": "display_data"
    }
   ],
   "source": [
    "ax1 = plt.subplot(221)\n",
    "ax1.scatter([1,2,3],[4,5,6],s=200,vmin=0.1,vmax=300,c=[1,100,255])\n",
    "ax1.set_title('pic 1')\n",
    "\n",
    "import matplotlib as mpl\n",
    "ax2 = plt.subplot(222)\n",
    "ax2.scatter([1,2,3],[4,5,6],s=200,c=[1,100,255],norm=mpl.colors.Normalize(0.1,300))\n",
    "ax2.set_title('pic 2')\n",
    "\n",
    "ax3 = plt.subplot(223)\n",
    "ax3.scatter([1,2,3],[4,5,6],s=200,c=[1,100,300])\n",
    "ax3.set_title('pic 3')\n",
    "\n",
    "# 因为pic3和pic1文字发生冲突，所以需要控制布局\n",
    "plt.tight_layout()\n",
    "# tight_layout(pad=0.4, w_pad=10, h_pad=1.0)\n",
    "# pad:整个图边缘于子图边缘的距离\n",
    "# w_pad:相邻子图之间的宽度\n",
    "# h_pad:相邻子图之间的高度\n",
    "# rect:标准化图形坐标中的矩形,按（left, bottom, right, top）方式，默认(0, 0, 1, 1).\n",
    "# w_pad 和 p_had 默认等于 pad\n",
    "\n",
    "plt.show()"
   ]
  },
  {
   "cell_type": "markdown",
   "metadata": {},
   "source": [
    "- pic3是初始状态，为每个点指定一个颜色\n",
    "- pic1 和 pic2 效果一样"
   ]
  }
 ],
 "metadata": {
  "kernelspec": {
   "display_name": "Python 3",
   "language": "python",
   "name": "python3"
  },
  "language_info": {
   "codemirror_mode": {
    "name": "ipython",
    "version": 3
   },
   "file_extension": ".py",
   "mimetype": "text/x-python",
   "name": "python",
   "nbconvert_exporter": "python",
   "pygments_lexer": "ipython3",
   "version": "3.6.7"
  }
 },
 "nbformat": 4,
 "nbformat_minor": 4
}
