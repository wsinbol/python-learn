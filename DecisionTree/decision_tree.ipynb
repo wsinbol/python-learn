{
 "cells": [
  {
   "cell_type": "code",
   "execution_count": 2,
   "metadata": {},
   "outputs": [],
   "source": [
    "# 来源网站，位置，是否阅读过FAQ，浏览网页数，选择服务类型（Y值）\n",
    "my_data=[['slashdot','USA','yes',18,'None'],\n",
    "    ['google','France','yes',23,'Premium'],\n",
    "    ['digg','USA','yes',24,'Basic'],\n",
    "    ['kiwitobes','France','yes',23,'Basic'],\n",
    "    ['google','UK','no',21,'Premium'],\n",
    "    ['(direct)','New Zealand','no',12,'None'],\n",
    "    ['(direct)','UK','no',21,'Basic'],\n",
    "    ['google','USA','no',24,'Premium'],\n",
    "    ['slashdot','France','yes',19,'None'],\n",
    "    ['digg','USA','no',18,'None'],\n",
    "    ['google','UK','no',18,'None'],\n",
    "    ['kiwitobes','UK','no',19,'None'],\n",
    "    ['digg','New Zealand','yes',12,'Basic'],\n",
    "    ['slashdot','UK','no',21,'None'],\n",
    "    ['google','UK','yes',18,'Basic'],\n",
    "    ['kiwitobes','France','yes',19,'Basic']]"
   ]
  },
  {
   "cell_type": "code",
   "execution_count": 4,
   "metadata": {},
   "outputs": [],
   "source": [
    "class decisionnode:\n",
    "    def __init__(self,col=-1,value=None,results=None,tb=None,fb=None):\n",
    "        self.col = col\n",
    "        self.value = value\n",
    "        self.results = results\n",
    "        self.tb = tb\n",
    "        self.fb = fb\n",
    "        \n",
    "def divideset(rows,column,value):\n",
    "    split_function = None\n",
    "    if isinstance(value,int) or isinstance(value,float):\n",
    "        split_function = lambda row:row[column] >= value\n",
    "    else:\n",
    "        split_function = lambda row:row[column] == value\n",
    "        \n",
    "    set1 = [row for row in rows if split_function(row)]\n",
    "    set2 = [row for row in rows if not split_function(row)]\n",
    "    \n",
    "    return (set1,set2)"
   ]
  },
  {
   "cell_type": "code",
   "execution_count": 7,
   "metadata": {},
   "outputs": [
    {
     "data": {
      "text/plain": [
       "[['slashdot', 'USA', 'yes', 18, 'None'],\n",
       " ['google', 'France', 'yes', 23, 'Premium'],\n",
       " ['digg', 'USA', 'yes', 24, 'Basic'],\n",
       " ['kiwitobes', 'France', 'yes', 23, 'Basic'],\n",
       " ['slashdot', 'France', 'yes', 19, 'None'],\n",
       " ['digg', 'New Zealand', 'yes', 12, 'Basic'],\n",
       " ['google', 'UK', 'yes', 18, 'Basic'],\n",
       " ['kiwitobes', 'France', 'yes', 19, 'Basic']]"
      ]
     },
     "execution_count": 7,
     "metadata": {},
     "output_type": "execute_result"
    }
   ],
   "source": [
    "set1,set2 = divideset(my_data,2,'yes')\n",
    "set1"
   ]
  },
  {
   "cell_type": "code",
   "execution_count": 10,
   "metadata": {},
   "outputs": [],
   "source": [
    "def uniquecounts(rows):\n",
    "    results = {}\n",
    "    for row in rows:\n",
    "        r = row[-1]\n",
    "        results.setdefault(r,0)\n",
    "        results[r] += 1\n",
    "    return results"
   ]
  },
  {
   "cell_type": "code",
   "execution_count": 11,
   "metadata": {},
   "outputs": [
    {
     "data": {
      "text/plain": [
       "{'None': 7, 'Premium': 3, 'Basic': 6}"
      ]
     },
     "execution_count": 11,
     "metadata": {},
     "output_type": "execute_result"
    }
   ],
   "source": [
    "uniquecounts(my_data)"
   ]
  },
  {
   "cell_type": "markdown",
   "metadata": {},
   "source": [
    "# 基尼不纯度\n",
    "\n",
    "是指将来自集合中的某种结果随机应用于集合中某一数据项的预期误差率。即：随机放置的数据项出现于错误分类中的概率。概率值越高表明对数据的拆分越不理想，值为0表示最佳的拆分结果。"
   ]
  },
  {
   "cell_type": "code",
   "execution_count": 17,
   "metadata": {},
   "outputs": [],
   "source": [
    "def giniimpurity(rows):\n",
    "    total = len(rows)\n",
    "    counts = uniquecounts(rows)\n",
    "    imp = 0.0\n",
    "    for k1 in counts:\n",
    "        p1 = float(counts[k1]) / total\n",
    "        for k2 in counts:\n",
    "            if k1 != k2:\n",
    "                p2 = float(counts[k2]) / total\n",
    "                imp += p1 * p2\n",
    "    return imp"
   ]
  },
  {
   "cell_type": "code",
   "execution_count": 16,
   "metadata": {},
   "outputs": [
    {
     "data": {
      "text/plain": [
       "0.6328125"
      ]
     },
     "execution_count": 16,
     "metadata": {},
     "output_type": "execute_result"
    }
   ],
   "source": [
    "giniimpurity(my_data)"
   ]
  },
  {
   "cell_type": "code",
   "execution_count": 37,
   "metadata": {},
   "outputs": [],
   "source": [
    "from math import log\n",
    "def entropy(rows):\n",
    "    total = len(rows)\n",
    "    counts = uniquecounts(rows)\n",
    "    ent = 0.0\n",
    "    log2 = lambda x:log(x) / log(2)\n",
    "    for k in counts:\n",
    "        p = float(counts[k]) / total\n",
    "        # ent =ent - p*log(p) # this is wrong! 默然以 e 为底数\n",
    "        # ent =ent - p*log2(p) # this is right! 与下行方法结果同\n",
    "        ent -= p * log(p,2)\n",
    "    return ent"
   ]
  },
  {
   "cell_type": "code",
   "execution_count": 38,
   "metadata": {},
   "outputs": [
    {
     "data": {
      "text/plain": [
       "1.5052408149441479"
      ]
     },
     "execution_count": 38,
     "metadata": {},
     "output_type": "execute_result"
    }
   ],
   "source": [
    "entropy(my_data)"
   ]
  }
 ],
 "metadata": {
  "kernelspec": {
   "display_name": "Python 3",
   "language": "python",
   "name": "python3"
  },
  "language_info": {
   "codemirror_mode": {
    "name": "ipython",
    "version": 3
   },
   "file_extension": ".py",
   "mimetype": "text/x-python",
   "name": "python",
   "nbconvert_exporter": "python",
   "pygments_lexer": "ipython3",
   "version": "3.6.4"
  }
 },
 "nbformat": 4,
 "nbformat_minor": 4
}
