{
 "cells": [
  {
   "cell_type": "markdown",
   "metadata": {},
   "source": [
    "# 推荐系统测评\n",
    "## 实验方法\n",
    "- 离线实验\n",
    "- 用户调查\n",
    "- 在线实验\n",
    "\n",
    "## 测评指标\n",
    "- 用户满意度\n",
    "- 预测准确度\n",
    "    + 评分预测\n",
    "    + TopN推荐\n",
    "- 覆盖率\n",
    "- 多样性\n",
    "- 相似性\n",
    "- 新颖性\n",
    "- 惊喜度\n",
    "- 信任度\n",
    "- 实时性\n",
    "- 健壮性\n",
    "\n",
    "## 维度测评\n",
    "- 用户维度\n",
    "- 物品维度\n",
    "- 时间维度\n"
   ]
  }
 ],
 "metadata": {
  "kernelspec": {
   "display_name": "Python 3",
   "language": "python",
   "name": "python3"
  },
  "language_info": {
   "codemirror_mode": {
    "name": "ipython",
    "version": 3
   },
   "file_extension": ".py",
   "mimetype": "text/x-python",
   "name": "python",
   "nbconvert_exporter": "python",
   "pygments_lexer": "ipython3",
   "version": "3.6.4"
  }
 },
 "nbformat": 4,
 "nbformat_minor": 4
}
