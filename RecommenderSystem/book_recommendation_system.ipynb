{
 "cells": [
  {
   "cell_type": "markdown",
   "metadata": {},
   "source": [
    "# 推荐系统测评\n",
    "## 实验方法\n",
    "- 离线实验\n",
    "- 用户调查\n",
    "- 在线实验\n",
    "\n",
    "## 测评指标\n",
    "- 用户满意度\n",
    "- 预测准确度\n",
    "    + 评分预测\n",
    "    + TopN推荐\n",
    "- 覆盖率\n",
    "- 多样性\n",
    "- 相似性\n",
    "- 新颖性\n",
    "- 惊喜度\n",
    "- 信任度\n",
    "- 实时性\n",
    "- 健壮性\n",
    "\n",
    "## 维度测评\n",
    "- 用户维度\n",
    "- 物品维度\n",
    "- 时间维度\n"
   ]
  },
  {
   "cell_type": "markdown",
   "metadata": {},
   "source": [
    "# 第2章 利用用户行为数据"
   ]
  },
  {
   "cell_type": "markdown",
   "metadata": {},
   "source": [
    "- 无上下文信息的隐性反馈数据集：每一条记录仅仅包含用户ID和物品ID\n",
    "\n",
    "- 无上下文信息的显性反馈数据集：每一条记录包含用户ID、物品ID和用户对物品的评分\n",
    "\n",
    "- 有上下文信息的隐性反馈数据集：每一条记录包含用户ID、物品ID和用户对物品的评分和评分行为发生的时间戳\n",
    "\n",
    "仅仅基于用户行为数据设计的推荐算法成为协同过滤算法，具体细分为基于邻域的方法、隐语义模型、基于图的随机游走算法。目前业界应用较为广泛的方法是基于邻域的方法，基于邻域的方法包括下面两种算法：\n",
    "\n",
    "- 基于用户的协同过滤算法\n",
    "\n",
    "- 基于物品的协同过滤算法"
   ]
  },
  {
   "cell_type": "markdown",
   "metadata": {},
   "source": [
    "## 基于用户的协同过滤算法\n",
    "\n",
    "1. 找到和目标用户兴趣相似的用户集合\n",
    "\n",
    "2. 将兴趣相似用户喜欢且目标用户不曾见过的物品推荐给目标用户"
   ]
  },
  {
   "cell_type": "code",
   "execution_count": 1,
   "metadata": {},
   "outputs": [],
   "source": [
    "import math\n",
    "def UserSimilarity(train):\n",
    "    res = {}\n",
    "    for u in train:\n",
    "        res.setdefault(u,0)\n",
    "        for v in train:\n",
    "            if u != v:\n",
    "                res[u].setdefault(v,[])\n",
    "                res[u][v] = len(train[u] & train[v])\n",
    "                res[u][v] /= math.sqrt( len(train[u]) * len(train[v]))\n",
    "    return res"
   ]
  },
  {
   "cell_type": "code",
   "execution_count": 2,
   "metadata": {},
   "outputs": [],
   "source": [
    "from collections import defaultdict\n",
    "def UserSimilarity(train):\n",
    "    res = defaultdict(dict)\n",
    "    for u in train:\n",
    "        for v in train:\n",
    "            if u != v:\n",
    "                # 以余弦相似度为计算核心\n",
    "                res[u][v] = len(train[u] & train[v])\n",
    "                res[u][v] /= math.sqrt( len(train[u]) * len(train[v]))\n",
    "    return res"
   ]
  },
  {
   "cell_type": "code",
   "execution_count": 3,
   "metadata": {},
   "outputs": [
    {
     "data": {
      "text/plain": [
       "defaultdict(dict,\n",
       "            {'A': {'B': 0.4082482904638631,\n",
       "              'C': 0.4082482904638631,\n",
       "              'D': 0.3333333333333333},\n",
       "             'B': {'A': 0.4082482904638631, 'C': 0.0, 'D': 0.4082482904638631},\n",
       "             'C': {'A': 0.4082482904638631, 'B': 0.0, 'D': 0.4082482904638631},\n",
       "             'D': {'A': 0.3333333333333333,\n",
       "              'B': 0.4082482904638631,\n",
       "              'C': 0.4082482904638631}})"
      ]
     },
     "execution_count": 3,
     "metadata": {},
     "output_type": "execute_result"
    }
   ],
   "source": [
    "train_data = {'A':['a','b','c'],'B':['a','c']} # 会报错\n",
    "# train_data = {'A':{'a','b','c'},'B':{'a','c'}} # 只能用set结构，用set结构也比较合理\n",
    "train_data = {\n",
    "    'A':{'a','b','d'},\n",
    "    'B':{'a','c'},\n",
    "    'C':{'b','e'},\n",
    "    'D':{'c','d','e'}\n",
    "}\n",
    "UserSimilarity(train_data)"
   ]
  },
  {
   "cell_type": "markdown",
   "metadata": {},
   "source": [
    "### 看升级！！！"
   ]
  },
  {
   "cell_type": "code",
   "execution_count": 4,
   "metadata": {},
   "outputs": [
    {
     "name": "stdout",
     "output_type": "stream",
     "text": [
      "用户-物品转置表： defaultdict(<class 'set'>, {'d': {'A', 'D'}, 'a': {'B', 'A'}, 'b': {'C', 'A'}, 'c': {'B', 'D'}, 'e': {'C', 'D'}})\n",
      "单个用户评价的物品个数 defaultdict(<class 'int'>, {'D': 3, 'A': 3, 'B': 2, 'C': 2})\n",
      "协同用户评价的物品个数 defaultdict(<class 'dict'>, {'A': {'A': 0, 'D': 0.9102392266268373, 'B': 0.9102392266268373, 'C': 0.9102392266268373}, 'D': {'A': 0.9102392266268373, 'D': 0, 'B': 0.9102392266268373, 'C': 0.9102392266268373}, 'B': {'B': 0, 'A': 0.9102392266268373, 'D': 0.9102392266268373}, 'C': {'C': 0, 'A': 0.9102392266268373, 'D': 0.9102392266268373}})\n",
      "最终结果-用户相似度 defaultdict(<class 'dict'>, {'A': {'A': 0.0, 'D': 0.3034130755422791, 'B': 0.37160360818355515, 'C': 0.37160360818355515}, 'D': {'A': 0.3034130755422791, 'D': 0.0, 'B': 0.37160360818355515, 'C': 0.37160360818355515}, 'B': {'B': 0.0, 'A': 0.37160360818355515, 'D': 0.37160360818355515}, 'C': {'C': 0.0, 'A': 0.37160360818355515, 'D': 0.37160360818355515}})\n"
     ]
    },
    {
     "data": {
      "text/plain": [
       "defaultdict(dict,\n",
       "            {'A': {'A': 0.0,\n",
       "              'D': 0.3034130755422791,\n",
       "              'B': 0.37160360818355515,\n",
       "              'C': 0.37160360818355515},\n",
       "             'D': {'A': 0.3034130755422791,\n",
       "              'D': 0.0,\n",
       "              'B': 0.37160360818355515,\n",
       "              'C': 0.37160360818355515},\n",
       "             'B': {'B': 0.0,\n",
       "              'A': 0.37160360818355515,\n",
       "              'D': 0.37160360818355515},\n",
       "             'C': {'C': 0.0,\n",
       "              'A': 0.37160360818355515,\n",
       "              'D': 0.37160360818355515}})"
      ]
     },
     "execution_count": 4,
     "metadata": {},
     "output_type": "execute_result"
    }
   ],
   "source": [
    "def UserSimilarity(train):\n",
    "    item_user = defaultdict(set)\n",
    "    # item_user = defaultdict(list)\n",
    "    # item_user = defaultdict(dict)\n",
    "    for user, items in train.items():\n",
    "        for item in items:\n",
    "            # item_user[item].append(user)\n",
    "            item_user[item].add(user)\n",
    "    print('用户-物品转置表：',item_user)\n",
    "    co_num = defaultdict(dict)\n",
    "    # user_num = {}\n",
    "    user_num = defaultdict(int)\n",
    "    for item, users in item_user.items():\n",
    "        for u in users:\n",
    "            user_num.setdefault(user,0)\n",
    "            user_num[u] += 1\n",
    "            for v in users:\n",
    "                co_num[u].setdefault(v,0)\n",
    "                if u != v:\n",
    "                    # co_num[u][v] += 1\n",
    "                    co_num[u][v] += 1 / math.log( 1+len(users))\n",
    "    print('单个用户评价的物品个数', user_num)        \n",
    "    print('协同用户评价的物品个数', co_num)\n",
    "    \n",
    "    res = defaultdict(dict)\n",
    "    for user, co_user in co_num.items():\n",
    "        for u,n in co_user.items():\n",
    "            res[user][u] = n\n",
    "            res[user][u] /= math.sqrt(user_num[user] * user_num[u])\n",
    "    print('最终结果-用户相似度', res)\n",
    "    return res\n",
    "user_similarity_res = UserSimilarity(train_data)\n",
    "user_similarity_res"
   ]
  },
  {
   "cell_type": "code",
   "execution_count": 5,
   "metadata": {},
   "outputs": [
    {
     "data": {
      "text/plain": [
       "{'a': 0, 'c': 0.6750166837258342, 'e': 0.6750166837258342, 'b': 0, 'd': 0}"
      ]
     },
     "execution_count": 5,
     "metadata": {},
     "output_type": "execute_result"
    }
   ],
   "source": [
    "def recommend(user, train, user_similarity):\n",
    "    rank = dict()\n",
    "    user_item = train[user]\n",
    "    for u,s in sorted(user_similarity[user].items(), key=lambda x:x[1], reverse=True):\n",
    "        for item in train[u]:\n",
    "            rank.setdefault(item, 0)\n",
    "            if item not in user_item:\n",
    "                rank[item] += s\n",
    "    return rank\n",
    "recommend('A', train_data, user_similarity_res)"
   ]
  },
  {
   "cell_type": "markdown",
   "metadata": {},
   "source": [
    "# 看缺点\n",
    "\n",
    "基于用户的协同过滤算法有如下缺点：\n",
    "\n",
    "1. 随着网站用户数目越来越大，计算用户的相似度越来越困难\n",
    "\n",
    "2. 基于用户的协同过滤算法很难对推荐结果做出解释\n",
    "\n",
    "因此，基于物品的协同过滤算法应运而生了。简称ItemCF，但是ItemCF并不利用物品的内容属性计算物品之间的相似度，它主要通过分析用户的行为记录计算物品之间的相似性。"
   ]
  },
  {
   "cell_type": "code",
   "execution_count": 6,
   "metadata": {},
   "outputs": [
    {
     "name": "stdout",
     "output_type": "stream",
     "text": [
      "用户-物品转置表： defaultdict(<class 'set'>, {'A': {'d', 'a', 'b'}, 'D': {'d', 'e', 'c'}, 'B': {'a', 'c'}, 'C': {'e', 'b'}})\n",
      "单个用户评价的物品个数 defaultdict(<class 'int'>, {'e': 2, 'd': 2, 'a': 2, 'b': 2, 'c': 2})\n",
      "协同用户评价的物品个数 defaultdict(<class 'dict'>, {'d': {'d': 0, 'a': 0.7213475204444817, 'b': 0.7213475204444817, 'e': 0.7213475204444817, 'c': 0.7213475204444817}, 'a': {'d': 0.7213475204444817, 'a': 0, 'b': 0.7213475204444817, 'c': 0.9102392266268373}, 'b': {'d': 0.7213475204444817, 'a': 0.7213475204444817, 'b': 0, 'e': 0.9102392266268373}, 'e': {'d': 0.7213475204444817, 'e': 0, 'c': 0.7213475204444817, 'b': 0.9102392266268373}, 'c': {'d': 0.7213475204444817, 'e': 0.7213475204444817, 'c': 0, 'a': 0.9102392266268373}})\n",
      "最终结果-用户相似度 defaultdict(<class 'dict'>, {'d': {'d': 0.0, 'a': 0.36067376022224085, 'b': 0.36067376022224085, 'e': 0.36067376022224085, 'c': 0.36067376022224085}, 'a': {'d': 0.36067376022224085, 'a': 0.0, 'b': 0.36067376022224085, 'c': 0.45511961331341866}, 'b': {'d': 0.36067376022224085, 'a': 0.36067376022224085, 'b': 0.0, 'e': 0.45511961331341866}, 'e': {'d': 0.36067376022224085, 'e': 0.0, 'c': 0.36067376022224085, 'b': 0.45511961331341866}, 'c': {'d': 0.36067376022224085, 'e': 0.36067376022224085, 'c': 0.0, 'a': 0.45511961331341866}})\n"
     ]
    },
    {
     "data": {
      "text/plain": [
       "defaultdict(dict,\n",
       "            {'d': {'d': 0.0,\n",
       "              'a': 0.36067376022224085,\n",
       "              'b': 0.36067376022224085,\n",
       "              'e': 0.36067376022224085,\n",
       "              'c': 0.36067376022224085},\n",
       "             'a': {'d': 0.36067376022224085,\n",
       "              'a': 0.0,\n",
       "              'b': 0.36067376022224085,\n",
       "              'c': 0.45511961331341866},\n",
       "             'b': {'d': 0.36067376022224085,\n",
       "              'a': 0.36067376022224085,\n",
       "              'b': 0.0,\n",
       "              'e': 0.45511961331341866},\n",
       "             'e': {'d': 0.36067376022224085,\n",
       "              'e': 0.0,\n",
       "              'c': 0.36067376022224085,\n",
       "              'b': 0.45511961331341866},\n",
       "             'c': {'d': 0.36067376022224085,\n",
       "              'e': 0.36067376022224085,\n",
       "              'c': 0.0,\n",
       "              'a': 0.45511961331341866}})"
      ]
     },
     "execution_count": 6,
     "metadata": {},
     "output_type": "execute_result"
    }
   ],
   "source": [
    "def ItemSimilarity(train):\n",
    "    item_user = defaultdict(set)\n",
    "    for user,items in train.items():\n",
    "        for item in items:\n",
    "            item_user[item].add(user)\n",
    "    return item_user\n",
    "UserSimilarity(ItemSimilarity(train_data))\n"
   ]
  },
  {
   "cell_type": "code",
   "execution_count": 7,
   "metadata": {},
   "outputs": [
    {
     "data": {
      "text/plain": [
       "defaultdict(dict,\n",
       "            {'d': {'d': 0.0,\n",
       "              'a': 0.6666666666666666,\n",
       "              'b': 0.4082482904638631,\n",
       "              'e': 0.4082482904638631,\n",
       "              'c': 0.4082482904638631},\n",
       "             'a': {'d': 0.6666666666666666,\n",
       "              'a': 0.0,\n",
       "              'b': 0.4082482904638631,\n",
       "              'c': 0.4082482904638631},\n",
       "             'b': {'d': 0.4082482904638631,\n",
       "              'a': 0.4082482904638631,\n",
       "              'b': 0.0,\n",
       "              'e': 0.5},\n",
       "             'c': {'a': 0.4082482904638631,\n",
       "              'c': 0.0,\n",
       "              'd': 0.4082482904638631,\n",
       "              'e': 0.5},\n",
       "             'e': {'e': 0.0, 'b': 0.5, 'd': 0.4082482904638631, 'c': 0.5}})"
      ]
     },
     "execution_count": 7,
     "metadata": {},
     "output_type": "execute_result"
    }
   ],
   "source": [
    "def ItemSimilarity(train):\n",
    "    goods = {}\n",
    "    co_goods = defaultdict(dict)\n",
    "    for user,items in train.items():\n",
    "        for item1 in items:\n",
    "            goods.setdefault(item1,0)\n",
    "            goods[item1] += 1\n",
    "            for item2 in items:\n",
    "                co_goods[item1].setdefault(item2,0)\n",
    "                if item1 != item2:\n",
    "                    co_goods[item1][item2] += 1\n",
    "    res = defaultdict(dict)\n",
    "    \n",
    "    for item,co_item in co_goods.items():\n",
    "        for k,v in co_item.items():\n",
    "            res[item][k] = v/math.sqrt( goods[item] * goods[k])\n",
    "    return res\n",
    "\n",
    "train_data = {\n",
    "    'A':{'a','b','d'},\n",
    "    'B':{'a','c'},\n",
    "    'C':{'b','e'},\n",
    "    'D':{'c','d','e'},\n",
    "    'E':{'a','d'}\n",
    "}\n",
    "\n",
    "item_similarity = ItemSimilarity(train_data)\n",
    "item_similarity"
   ]
  },
  {
   "cell_type": "code",
   "execution_count": 10,
   "metadata": {},
   "outputs": [
    {
     "data": {
      "text/plain": [
       "defaultdict(dict,\n",
       "            {'a': 0,\n",
       "             'b': 0,\n",
       "             'e': 0.9082482904638631,\n",
       "             'c': 0.8164965809277261,\n",
       "             'd': 0})"
      ]
     },
     "execution_count": 10,
     "metadata": {},
     "output_type": "execute_result"
    }
   ],
   "source": [
    "def recommendation(train, user, item_similarity):\n",
    "    rank = defaultdict(dict)\n",
    "    user_item = train[user]\n",
    "    for item in user_item:\n",
    "        for co_item,score in sorted(item_similarity[item].items(),key=lambda x:x[1], reverse=True):\n",
    "            rank.setdefault(co_item,0)\n",
    "            if co_item not in user_item:\n",
    "                rank[co_item] += score\n",
    "    return rank\n",
    "recommendation(train_data, 'A', item_similarity)"
   ]
  },
  {
   "cell_type": "markdown",
   "metadata": {},
   "source": [
    "## 隐语义模型 Latent factor model\n",
    "\n",
    "推荐系统的用户行为分为显性反馈和隐性反馈。\n",
    "正样本：用户喜欢什么物品\n",
    "负样本：用户不喜欢什么物品\n",
    "\n",
    "对负样本采样应该遵循以下原则：\n",
    "1. 对每个样本，要保证正负样本的平衡（数目相似）\n",
    "2. 对每个用户采样负样本时，要选取那些很热门，而用户却没有行为的物品"
   ]
  },
  {
   "cell_type": "code",
   "execution_count": null,
   "metadata": {},
   "outputs": [],
   "source": [
    "def RandomSelectNegativeSample(self, items):\n",
    "    "
   ]
  },
  {
   "cell_type": "code",
   "execution_count": null,
   "metadata": {},
   "outputs": [],
   "source": [
    "def LatentFactorModel(user_items, F, N, alpha, lambda):\n"
   ]
  },
  {
   "cell_type": "markdown",
   "metadata": {},
   "source": [
    "# 第3章 推荐系统冷启动问题\n",
    "\n",
    "冷启动问题（cold start）主要分3类：\n",
    "1. 用户冷启动：解决如何给新用户做个性化推荐\n",
    "2. 物品冷启动：解决如何将新的物品推荐给可能对它感兴趣的用户\n",
    "3. 系统冷启动：解决上述两个问题\n",
    "\n",
    "So 如何解决呢？\n",
    "1. 提供非个性化推荐：例如热门排行榜\n",
    "2. 利用注册信息提供粗粒度的推荐\n",
    "3. 利用用户的社交网络，导入社交好友信息，推荐其好友喜欢的物品\n",
    "4. 用户登录时强制对一些物品反馈\n",
    "5. 对于新加入的物品，根据物品相似度进行推荐\n",
    "6. 引入专家知识，构建物品相关度表"
   ]
  },
  {
   "cell_type": "markdown",
   "metadata": {},
   "source": [
    "# 第4章 利用用户标签数据\n",
    "\n",
    "基于标签的推荐系统算法：\n",
    "1. 统计每个用户最常用的标签\n",
    "2. 对于每个标签，统计被打过这个标签次数最多的物品\n",
    "3. 对于每个用户，首先在【1】中找到他最常用的标签，推荐【2】中的物品给这个用户\n",
    "\n"
   ]
  },
  {
   "cell_type": "code",
   "execution_count": 25,
   "metadata": {},
   "outputs": [
    {
     "data": {
      "text/plain": [
       "defaultdict(dict,\n",
       "            {'Kobe': 1.8204784532536746,\n",
       "             'Yaoming': 0.9102392266268373,\n",
       "             'Taylor': 5.461435359761024})"
      ]
     },
     "execution_count": 25,
     "metadata": {},
     "output_type": "execute_result"
    }
   ],
   "source": [
    "'''\n",
    "users_tags = {\n",
    "    'userA':{'sports':2,'art':1,'science':3},\n",
    "    'userB':{'sports':1,'art':3}\n",
    "}\n",
    "\n",
    "tags_items = {\n",
    "    'sports':{'Kobe':2, 'Yaoming':1,'Taylor':0},\n",
    "    'art':{'Taylor':2},\n",
    "    'science':{'Yang_zhen_ning':2}\n",
    "}\n",
    "'''\n",
    "from collections import defaultdict\n",
    "import math\n",
    "def recommend(user, users_tags, tags_items):\n",
    "    # 统计 标签 被 用户使用的情况\n",
    "    tag_num = defaultdict(dict)\n",
    "    for user,tags in users_tags.items():\n",
    "        for tag,_ in tags.items():\n",
    "            tag_num.setdefault(tag, 0)\n",
    "            tag_num[tag] += 1\n",
    "    \n",
    "    recommend_item = defaultdict(dict)\n",
    "    user_tags = users_tags[user]\n",
    "    for tag_item,tag_count in users_tags[user].items():\n",
    "        #3 此处添加有关标签相似性的调用程序，返回与用户当前标记的标签相似度高的标签进行拓展推荐\n",
    "        for item,item_count in tags_items[tag_item].items():\n",
    "            recommend_item.setdefault(item, 0)\n",
    "            #1 标签数量 * 物品数量\n",
    "            #recommend_item[item] += tag_count * item_count\n",
    "            #2\n",
    "            # 惩罚频繁使用的标签\n",
    "            recommend_item[item] += tag_count * item_count / math.log(1 + tag_num[tag_item])\n",
    "    return recommend_item\n",
    "\n",
    "users_tags = {\n",
    "    # 用户：{标签：数量}\n",
    "    'userA':{'sports':2,'art':1,'science':3},\n",
    "    'userB':{'sports':1,'art':3}\n",
    "}\n",
    "\n",
    "tags_items = {\n",
    "    # 标签：{物品：数量}\n",
    "    'sports':{'Kobe':2, 'Yaoming':1},\n",
    "    'art':{'Taylor':2},\n",
    "    'science':{'Yang_zhen_ning':2}\n",
    "}\n",
    "\n",
    "recommend('userB', users_tags, tags_items)"
   ]
  },
  {
   "cell_type": "markdown",
   "metadata": {},
   "source": [
    "## 看改进\n",
    "\n",
    "根据【标签出现频率】和【物品被贴标签的频率】（即：#1方法）来作为推荐的权重反馈给用户的最大问题是：容易将热门产品推荐给用户，降低推荐结果的新颖性。需要进行改进：\n",
    "\n",
    "1. TF-IDF：对标签被用户使用的频率进行惩罚（即：#2）、对热门物品进行惩罚\n",
    "2. 数据稀疏性：用户的兴趣与推荐的物品是通过标签进行联系的，但是对于新用户或新物品，标签数量会很少！解决方法就是拓展标签。\n",
    "如何拓展呢？有二：\n",
    "    - 根据标签的同义词字典\n",
    "    - 根据标签的相似性（余弦相似度等）见上文的#3\n",
    "        - 计算原理：当两个标签同时出现在很多物品的标签集合中，就可以认为两个标签具有较大相似性\n",
    "        - 基于余弦相似度的标签相似度计算公式：\n",
    "            1. 遍历每一个标签，统计每个标签下的物品集合，记为N(b)\n",
    "            2. $n_{b,i}$表示给物品i打上标签b的用户数\n",
    "            3. 以物品i为纽带,计算两个标签之间的相似度：$sim(b,b') = \\frac{\\sum_{i \\in N(b) \\bigcap N(b')} n_{b,i} n_{b',i}}{\\sqrt{ \\sum_{i \\in N(b)} n_{b,i}^2 \\sum_{i \\in N(b') n_{b',i}^2} } } $\n",
    "3. 标签清理：\n",
    "    - 去除词频很高的停用词\n",
    "    - 去除因词根不同造成的同义词\n",
    "    - 去除因分隔符不同造成的同义词"
   ]
  }
 ],
 "metadata": {
  "kernelspec": {
   "display_name": "Python 3",
   "language": "python",
   "name": "python3"
  },
  "language_info": {
   "codemirror_mode": {
    "name": "ipython",
    "version": 3
   },
   "file_extension": ".py",
   "mimetype": "text/x-python",
   "name": "python",
   "nbconvert_exporter": "python",
   "pygments_lexer": "ipython3",
   "version": "3.6.4"
  }
 },
 "nbformat": 4,
 "nbformat_minor": 4
}
