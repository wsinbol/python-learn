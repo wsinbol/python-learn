{
 "cells": [
  {
   "cell_type": "markdown",
   "metadata": {},
   "source": [
    "# 推荐系统测评\n",
    "## 实验方法\n",
    "- 离线实验\n",
    "- 用户调查\n",
    "- 在线实验\n",
    "\n",
    "## 测评指标\n",
    "- 用户满意度\n",
    "- 预测准确度\n",
    "    + 评分预测\n",
    "    + TopN推荐\n",
    "- 覆盖率\n",
    "- 多样性\n",
    "- 相似性\n",
    "- 新颖性\n",
    "- 惊喜度\n",
    "- 信任度\n",
    "- 实时性\n",
    "- 健壮性\n",
    "\n",
    "## 维度测评\n",
    "- 用户维度\n",
    "- 物品维度\n",
    "- 时间维度\n"
   ]
  },
  {
   "cell_type": "markdown",
   "metadata": {},
   "source": [
    "# 第2章 利用用户行为数据"
   ]
  },
  {
   "cell_type": "markdown",
   "metadata": {},
   "source": [
    "- 无上下文信息的隐性反馈数据集：每一条记录仅仅包含用户ID和物品ID\n",
    "\n",
    "- 无上下文信息的显性反馈数据集：每一条记录包含用户ID、物品ID和用户对物品的评分\n",
    "\n",
    "- 有上下文信息的隐性反馈数据集：每一条记录包含用户ID、物品ID和用户对物品的评分和评分行为发生的时间戳\n",
    "\n",
    "仅仅基于用户行为数据设计的推荐算法成为协同过滤算法，具体细分为基于邻域的方法、隐语义模型、基于图的随机游走算法。目前业界应用较为广泛的方法是基于邻域的方法，基于邻域的方法包括下面两种算法：\n",
    "\n",
    "- 基于用户的协同过滤算法\n",
    "\n",
    "- 基于物品的协同过滤算法"
   ]
  },
  {
   "cell_type": "markdown",
   "metadata": {},
   "source": [
    "## 基于用户的协同过滤算法\n",
    "\n",
    "1. 找到和目标用户兴趣相似的用户集合\n",
    "\n",
    "2. 将兴趣相似用户喜欢且目标用户不曾见过的物品推荐给目标用户"
   ]
  },
  {
   "cell_type": "code",
   "execution_count": 1,
   "metadata": {},
   "outputs": [],
   "source": [
    "import math\n",
    "def UserSimilarity(train):\n",
    "    res = {}\n",
    "    for u in train:\n",
    "        res.setdefault(u,0)\n",
    "        for v in train:\n",
    "            if u != v:\n",
    "                res[u].setdefault(v,[])\n",
    "                res[u][v] = len(train[u] & train[v])\n",
    "                res[u][v] /= math.sqrt( len(train[u]) * len(train[v]))\n",
    "    return res"
   ]
  },
  {
   "cell_type": "code",
   "execution_count": 2,
   "metadata": {},
   "outputs": [],
   "source": [
    "from collections import defaultdict\n",
    "def UserSimilarity(train):\n",
    "    res = defaultdict(dict)\n",
    "    for u in train:\n",
    "        for v in train:\n",
    "            if u != v:\n",
    "                # 以余弦相似度为计算核心\n",
    "                res[u][v] = len(train[u] & train[v])\n",
    "                res[u][v] /= math.sqrt( len(train[u]) * len(train[v]))\n",
    "    return res"
   ]
  },
  {
   "cell_type": "code",
   "execution_count": 3,
   "metadata": {},
   "outputs": [
    {
     "data": {
      "text/plain": [
       "defaultdict(dict,\n",
       "            {'A': {'B': 0.8164965809277261}, 'B': {'A': 0.8164965809277261}})"
      ]
     },
     "execution_count": 3,
     "metadata": {},
     "output_type": "execute_result"
    }
   ],
   "source": [
    "train_data = {'A':['a','b','c'],'B':['a','c']} # 会报错\n",
    "train_data = {'A':{'a','b','c'},'B':{'a','c'}} # 只能用set结构，用set结构也比较合理\n",
    "UserSimilarity(train_data)"
   ]
  },
  {
   "cell_type": "markdown",
   "metadata": {},
   "source": [
    "### 看升级！！！"
   ]
  },
  {
   "cell_type": "code",
   "execution_count": 14,
   "metadata": {},
   "outputs": [
    {
     "name": "stdout",
     "output_type": "stream",
     "text": [
      "用户-物品转置表： defaultdict(<class 'set'>, {'b': {'A'}, 'a': {'A', 'B'}, 'c': {'A', 'B'}})\n",
      "单个用户评价的物品个数 defaultdict(<class 'int'>, {'B': 2, 'A': 3})\n",
      "协同用户评价的物品个数 defaultdict(<class 'dict'>, {'A': {'A': 0, 'B': 2}, 'B': {'A': 2, 'B': 0}})\n",
      "defaultdict(<class 'dict'>, {'A': {'A': 0.0, 'B': 0.8164965809277261}, 'B': {'A': 0.8164965809277261, 'B': 0.0}})\n"
     ]
    }
   ],
   "source": [
    "def UserSimilarity(train):\n",
    "    item_user = defaultdict(set)\n",
    "    # item_user = defaultdict(list)\n",
    "    # item_user = defaultdict(dict)\n",
    "    for user, items in train.items():\n",
    "        for item in items:\n",
    "            # item_user[item].append(user)\n",
    "            item_user[item].add(user)\n",
    "    print('用户-物品转置表：',item_user)\n",
    "    co_num = defaultdict(dict)\n",
    "    # user_num = {}\n",
    "    user_num = defaultdict(int)\n",
    "    for item, users in item_user.items():\n",
    "        for u in users:\n",
    "            user_num.setdefault(user,0)\n",
    "            user_num[u] += 1\n",
    "            for v in users:\n",
    "                co_num[u].setdefault(v,0)\n",
    "                if u != v:\n",
    "                    co_num[u][v] += 1\n",
    "    print('单个用户评价的物品个数', user_num)        \n",
    "    print('协同用户评价的物品个数', co_num)\n",
    "    \n",
    "    res = defaultdict(dict)\n",
    "    for user, co_user in co_num.items():\n",
    "        for u,n in co_user.items():\n",
    "            res[user][u] = n\n",
    "            res[user][u] /= math.sqrt(user_num[user] * user_num[u])\n",
    "        \n",
    "    print(res)\n",
    "UserSimilarity(train_data)"
   ]
  },
  {
   "cell_type": "code",
   "execution_count": null,
   "metadata": {},
   "outputs": [],
   "source": []
  }
 ],
 "metadata": {
  "kernelspec": {
   "display_name": "Python 3",
   "language": "python",
   "name": "python3"
  },
  "language_info": {
   "codemirror_mode": {
    "name": "ipython",
    "version": 3
   },
   "file_extension": ".py",
   "mimetype": "text/x-python",
   "name": "python",
   "nbconvert_exporter": "python",
   "pygments_lexer": "ipython3",
   "version": "3.6.4"
  }
 },
 "nbformat": 4,
 "nbformat_minor": 4
}
