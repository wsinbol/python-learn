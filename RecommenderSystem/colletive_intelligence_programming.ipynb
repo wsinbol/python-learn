{
 "cells": [
  {
   "cell_type": "code",
   "execution_count": 1,
   "metadata": {},
   "outputs": [],
   "source": [
    "\n",
    "critics={'Lisa Rose': {'Lady in the Water': 2.5, 'Snakes on a Plane': 3.5,\n",
    " 'Just My Luck': 3.0, 'Superman Returns': 3.5, 'You, Me and Dupree': 2.5, \n",
    " 'The Night Listener': 3.0},\n",
    "'Gene Seymour': {'Lady in the Water': 3.0, 'Snakes on a Plane': 3.5, \n",
    " 'Just My Luck': 1.5, 'Superman Returns': 5.0, 'The Night Listener': 3.0, \n",
    " 'You, Me and Dupree': 3.5}, \n",
    "'Michael Phillips': {'Lady in the Water': 2.5, 'Snakes on a Plane': 3.0,\n",
    " 'Superman Returns': 3.5, 'The Night Listener': 4.0},\n",
    "'Claudia Puig': {'Snakes on a Plane': 3.5, 'Just My Luck': 3.0,\n",
    " 'The Night Listener': 4.5, 'Superman Returns': 4.0, \n",
    " 'You, Me and Dupree': 2.5},\n",
    "'Mick LaSalle': {'Lady in the Water': 3.0, 'Snakes on a Plane': 4.0, \n",
    " 'Just My Luck': 2.0, 'Superman Returns': 3.0, 'The Night Listener': 3.0,\n",
    " 'You, Me and Dupree': 2.0}, \n",
    "'Jack Matthews': {'Lady in the Water': 3.0, 'Snakes on a Plane': 4.0,\n",
    " 'The Night Listener': 3.0, 'Superman Returns': 5.0, 'You, Me and Dupree': 3.5},\n",
    "'Toby': {'Snakes on a Plane':4.5,'You, Me and Dupree':1.0,'Superman Returns':4.0}}"
   ]
  },
  {
   "cell_type": "markdown",
   "metadata": {},
   "source": [
    "# Finding similar users\n",
    "\n",
    "Q:用什么算法衡量两个用户的相似性？\n",
    "\n",
    "A:欧几里得距离评价 或 皮尔逊相关度评价，当然还有其他算法，如Jaccard系数或曼哈顿距离算法\n",
    "\n",
    "Q:皮尔逊相关度的优点\n",
    "\n",
    "A:在数据不是很规范时（比如影评者对影片的评价总是高于平均水平）也能给出较好的结果"
   ]
  },
  {
   "cell_type": "code",
   "execution_count": 2,
   "metadata": {},
   "outputs": [
    {
     "data": {
      "text/plain": [
       "0.3483314773547883"
      ]
     },
     "execution_count": 2,
     "metadata": {},
     "output_type": "execute_result"
    }
   ],
   "source": [
    "'''\n",
    "Euclidean Distance Score:欧几里得距离评价\n",
    "'''\n",
    "from math import sqrt\n",
    "def sim_distance(critics_data,user1,user2):\n",
    "    shared_item = []\n",
    "    for item in critics_data[user1]:\n",
    "        if item in critics_data[user2]:\n",
    "            shared_item.append(item)\n",
    "\n",
    "    if len(shared_item) == 0:\n",
    "        return 0\n",
    "    \n",
    "    sum_of_squares = sum([pow(critics_data[user1][item] - critics_data[user2][item],2) for item in shared_item])\n",
    "    return 1/(1+sqrt(sum_of_squares))\n",
    "\n",
    "sim_distance(critics,'Lisa Rose','Toby')"
   ]
  },
  {
   "cell_type": "code",
   "execution_count": 3,
   "metadata": {},
   "outputs": [
    {
     "data": {
      "text/plain": [
       "0.3483314773547883"
      ]
     },
     "execution_count": 3,
     "metadata": {},
     "output_type": "execute_result"
    }
   ],
   "source": [
    "from math import sqrt\n",
    "def sim_all_distance(critics_data,user1,user2):\n",
    "    all_item = set()\n",
    "    user1_item = set(critics_data[user1].keys())\n",
    "    user2_item = set(critics_data[user2].keys())\n",
    "    \n",
    "    all_item = user1_item & user2_item\n",
    "    \n",
    "    if len(all_item) == 0:\n",
    "        return 0\n",
    "    \n",
    "    sum_of_squares = sum([pow(critics_data[user1][item] - critics_data[user2][item],2) for item in all_item])\n",
    "    return 1/(1+sqrt(sum_of_squares))\n",
    "    \n",
    "sim_all_distance(critics,'Lisa Rose','Toby')"
   ]
  },
  {
   "cell_type": "code",
   "execution_count": 4,
   "metadata": {},
   "outputs": [
    {
     "data": {
      "text/plain": [
       "0.39605901719066977"
      ]
     },
     "execution_count": 4,
     "metadata": {},
     "output_type": "execute_result"
    }
   ],
   "source": [
    "'''\n",
    "Pearson Correlation Score - 皮尔逊相关度评价\n",
    "\n",
    "该函数返回一个介于-1和1之间的数值，值为1则表明两个人相关度较高，So 0和-1都代表什么？\n",
    "'''\n",
    "\n",
    "def sim_pearson(critics_data,user1,user2):\n",
    "    shared_item = set()\n",
    "    user1_item = set(critics_data[user1].keys())\n",
    "    user2_item = set(critics_data[user2].keys())\n",
    "    \n",
    "    shared_item = user1_item & user2_item\n",
    "    shared_count = len(shared_item)\n",
    "    \n",
    "    if shared_count == 0:\n",
    "        return 0\n",
    "    \n",
    "    sum_user1 = sum([critics_data[user1][item] for item in shared_item])\n",
    "    sum_user2 = sum([critics_data[user2][item] for item in shared_item])\n",
    "    \n",
    "    sum_user1_square = sum([pow(critics_data[user1][item],2) for item in shared_item])\n",
    "    sum_user2_square = sum([pow(critics_data[user2][item],2) for item in shared_item])\n",
    "    \n",
    "    sum_total_square = sum([critics_data[user1][item] * critics_data[user2][item] for item in shared_item])\n",
    "    \n",
    "    num = sum_total_square - (sum_user1*sum_user2/shared_count)\n",
    "    den = sqrt( (sum_user1_square - pow(sum_user1,2)/shared_count) * (sum_user2_square - pow(sum_user2,2)/shared_count))\n",
    "    if den == 0:\n",
    "        return 0\n",
    "    return num/den\n",
    "\n",
    "sim_pearson(critics,'Lisa Rose','Gene Seymour')"
   ]
  },
  {
   "cell_type": "code",
   "execution_count": 52,
   "metadata": {},
   "outputs": [
    {
     "name": "stdout",
     "output_type": "stream",
     "text": [
      "[(0.9912407071619299, 'Toby'), (0.7470178808339965, 'Jack Matthews'), (0.5940885257860044, 'Mick LaSalle'), (0.5669467095138396, 'Claudia Puig'), (0.40451991747794525, 'Michael Phillips'), (0.39605901719066977, 'Gene Seymour')]\n",
      "\n",
      "[(0.4721359549995794, 'Michael Phillips'), (0.4142135623730951, 'Mick LaSalle'), (0.38742588672279304, 'Claudia Puig'), (0.3483314773547883, 'Toby'), (0.3405424265831667, 'Jack Matthews'), (0.29429805508554946, 'Gene Seymour')]\n"
     ]
    }
   ],
   "source": [
    "'''\n",
    "获取指定用户的近似者列表\n",
    "'''\n",
    "def top_matches(critics_data,user1,top_n,core=sim_pearson):\n",
    "    \n",
    "    '''\n",
    "    if core == 'sim_pearson':\n",
    "        scores = [(core(critics_data,user1,user_other),user_other) for user_other in critics_data.keys() if user_other != user1]\n",
    "        \n",
    "    if core == 'sim_distance':\n",
    "        scores = [(sim_distance(critics_data,user1,user_other),user_other) for user_other in critics_data.keys() if user_other != user1]\n",
    "    '''\n",
    "    scores = [(core(critics_data,user1,user_other),user_other) for user_other in critics_data.keys() if user_other != user1]\n",
    "    return sorted(scores, key=lambda x:x[0], reverse=True)[:top_n]\n",
    "    \n",
    "print(top_matches(critics,'Lisa Rose',10,sim_pearson))\n",
    "print()\n",
    "print(top_matches(critics,'Lisa Rose',10,sim_distance))"
   ]
  },
  {
   "cell_type": "markdown",
   "metadata": {},
   "source": [
    "# Recommending Items\n",
    "\n",
    "通过上面的代码我们可以找到与某个人观影喜好最接近的人，但是我们最终的目的是为这个人推荐新的影片。虽然我们可以在观影喜好最接近的人中找出这个人不曾看过的电影进而推荐给他，但这么做有如下弊端：\n",
    "\n",
    "1.评论者尚未对某些影片做过评论，而这些影片恰恰是这个人喜欢的\n",
    "\n",
    "2.评论者是热衷某个影片的古怪评论者，而这个影片不被top_mathes返回的用户所推荐\n",
    "\n",
    "So "
   ]
  },
  {
   "cell_type": "code",
   "execution_count": 45,
   "metadata": {},
   "outputs": [
    {
     "name": "stdout",
     "output_type": "stream",
     "text": [
      "[(3.457128694491423, 'The Night Listener'), (2.778584003814924, 'Lady in the Water'), (2.422482042361917, 'Just My Luck')]\n",
      "\n",
      "[(3.119201586785552, 'The Night Listener'), (3.002234730607127, 'Lady in the Water'), (2.530980703765565, 'Just My Luck')]\n"
     ]
    }
   ],
   "source": [
    "'''\n",
    "为指定用户推荐不曾看过的影片列表\n",
    "\n",
    "用 相似度*评分值 量化\n",
    "'''\n",
    "def getRecommendations(critics_data,user1,top_n,core=sim_pearson):\n",
    "    totals = {}\n",
    "    sim_sum = {}\n",
    "    for other in critics_data:\n",
    "        if other != user1:\n",
    "            sim = core(critics_data,user1,other)\n",
    "            for item in critics_data[other]:\n",
    "                if item not in critics_data[user1]:\n",
    "                    totals.setdefault(item,0)\n",
    "                    # 相似度 * 评价值\n",
    "                    totals[item] += critics_data[other][item] * sim\n",
    "                    # 相似度之和\n",
    "                    sim_sum.setdefault(item, 0)\n",
    "                    sim_sum[item] += sim\n",
    "    # 归一化\n",
    "    ranking = [(total/sim_sum[item], item) for item,total in totals.items()]\n",
    "    result = sorted(ranking,key=lambda x:x[1],reverse=True)\n",
    "    return result\n",
    "\n",
    "print(getRecommendations(critics,'Toby',3,core=sim_distance))\n",
    "print()\n",
    "print(getRecommendations(critics,'Toby',3,core=sim_pearson))"
   ]
  },
  {
   "cell_type": "markdown",
   "metadata": {},
   "source": [
    "# 分割线\n",
    "\n",
    "上面的场景是以用户未中心，寻找与某个人观影喜好最接近的人，为用户推荐影片等等\n",
    "\n",
    "如果将上面的数据换成以影片为中心的字典结构，则可以寻找近似的影片、为影片推荐影评人等等"
   ]
  },
  {
   "cell_type": "code",
   "execution_count": 62,
   "metadata": {},
   "outputs": [],
   "source": [
    "def transform(critics_data):\n",
    "    result = {}\n",
    "    for user in critics_data:\n",
    "        for item in critics_data[user]:\n",
    "            result.setdefault(item,{})\n",
    "            result[item][user] = critics_data[user][item]\n",
    "    return result\n",
    "\n",
    "critics_transform = transform(critics)"
   ]
  },
  {
   "cell_type": "code",
   "execution_count": 54,
   "metadata": {},
   "outputs": [
    {
     "name": "stdout",
     "output_type": "stream",
     "text": [
      "[(0.5555555555555556, 'Just My Luck'), (-0.1798471947990544, 'Superman Returns'), (-0.250000000000002, 'You, Me and Dupree')]\n",
      "\n",
      "[(0.38742588672279304, 'Lady in the Water'), (0.32037724101704074, 'Snakes on a Plane'), (0.2989350844248255, 'Just My Luck')]\n"
     ]
    }
   ],
   "source": [
    "'''\n",
    "获取与指定影片最为接近的影片\n",
    "评分为负数表示为喜欢‘The Night Listener’的人不喜欢该影片\n",
    "'''\n",
    "print(top_matches(critics_transform,'The Night Listener',3,core=sim_pearson))\n",
    "print()\n",
    "print(top_matches(critics_transform,'The Night Listener',3,core=sim_distance))"
   ]
  },
  {
   "cell_type": "code",
   "execution_count": 60,
   "metadata": {},
   "outputs": [
    {
     "name": "stdout",
     "output_type": "stream",
     "text": [
      "[(2.936629402844435, 'Toby'), (3.2059731906295044, 'Michael Phillips'), (3.581097064761866, 'Jack Matthews')]\n",
      "\n",
      "[(2.9609998607242685, 'Toby'), (2.2872022472681763, 'Michael Phillips'), (3.8716948961316473, 'Jack Matthews')]\n"
     ]
    }
   ],
   "source": [
    "'''\n",
    "为指定影片推荐影评人\n",
    "'''\n",
    "print(getRecommendations(critics_transform,'Just My Luck',3,core=sim_distance))\n",
    "print()\n",
    "print(getRecommendations(critics_transform,'Just My Luck',5,core=sim_pearson))"
   ]
  },
  {
   "cell_type": "code",
   "execution_count": 84,
   "metadata": {},
   "outputs": [
    {
     "data": {
      "text/plain": [
       "{'Lady in the Water': [(0.4494897427831781, 'You, Me and Dupree'),\n",
       "  (0.38742588672279304, 'The Night Listener'),\n",
       "  (0.3483314773547883, 'Snakes on a Plane'),\n",
       "  (0.3483314773547883, 'Just My Luck'),\n",
       "  (0.2402530733520421, 'Superman Returns')],\n",
       " 'Snakes on a Plane': [(0.3483314773547883, 'Lady in the Water'),\n",
       "  (0.32037724101704074, 'The Night Listener'),\n",
       "  (0.3090169943749474, 'Superman Returns'),\n",
       "  (0.2553967929896867, 'Just My Luck'),\n",
       "  (0.1886378647726465, 'You, Me and Dupree')],\n",
       " 'Just My Luck': [(0.3483314773547883, 'Lady in the Water'),\n",
       "  (0.32037724101704074, 'You, Me and Dupree'),\n",
       "  (0.2989350844248255, 'The Night Listener'),\n",
       "  (0.2553967929896867, 'Snakes on a Plane'),\n",
       "  (0.20799159651347807, 'Superman Returns')],\n",
       " 'Superman Returns': [(0.3090169943749474, 'Snakes on a Plane'),\n",
       "  (0.252650308587072, 'The Night Listener'),\n",
       "  (0.2402530733520421, 'Lady in the Water'),\n",
       "  (0.20799159651347807, 'Just My Luck'),\n",
       "  (0.1918253663634734, 'You, Me and Dupree')],\n",
       " 'You, Me and Dupree': [(0.4494897427831781, 'Lady in the Water'),\n",
       "  (0.32037724101704074, 'Just My Luck'),\n",
       "  (0.29429805508554946, 'The Night Listener'),\n",
       "  (0.1918253663634734, 'Superman Returns'),\n",
       "  (0.1886378647726465, 'Snakes on a Plane')],\n",
       " 'The Night Listener': [(0.38742588672279304, 'Lady in the Water'),\n",
       "  (0.32037724101704074, 'Snakes on a Plane'),\n",
       "  (0.2989350844248255, 'Just My Luck'),\n",
       "  (0.29429805508554946, 'You, Me and Dupree'),\n",
       "  (0.252650308587072, 'Superman Returns')]}"
      ]
     },
     "execution_count": 84,
     "metadata": {},
     "output_type": "execute_result"
    }
   ],
   "source": [
    "def calc_similar_items(critics_transform,top_n=10):\n",
    "    result = {}\n",
    "    for item in critics_transform:\n",
    "        sim_score = top_matches(critics_transform,item,top_n,core=sim_distance)\n",
    "        result[item] = sim_score\n",
    "    return result\n",
    "similar_items = calc_similar_items(critics_transform,top_n=10)\n",
    "similar_items"
   ]
  },
  {
   "cell_type": "code",
   "execution_count": 90,
   "metadata": {},
   "outputs": [
    {
     "data": {
      "text/plain": [
       "[(3.1667425234070894, 'The Night Listener'),\n",
       " (2.9366294028444346, 'Just My Luck'),\n",
       " (2.868767392626467, 'Lady in the Water')]"
      ]
     },
     "execution_count": 90,
     "metadata": {},
     "output_type": "execute_result"
    }
   ],
   "source": [
    "'''\n",
    "基于物品的用户推荐\n",
    "'''\n",
    "def get_recommend_item(critics,critics_transform,user):\n",
    "    user_ratings = critics[user]\n",
    "    item_score = {}\n",
    "    total_sum = {}\n",
    "    \n",
    "    for movie,score in user_ratings.items():\n",
    "        for sim_score,sim_movie in critics_transform[movie]:\n",
    "            if sim_movie not in user_ratings:\n",
    "                item_score.setdefault(sim_movie,0)\n",
    "                item_score[sim_movie] += (sim_score) * (score)\n",
    "                \n",
    "                total_sum.setdefault(sim_movie,0)\n",
    "                total_sum[sim_movie] += sim_score\n",
    "                \n",
    "    ranking = [(score/total_sum[movie],movie) for movie,score in item_score.items()]\n",
    "    result = sorted(ranking,key=lambda x:x[0],reverse=True)\n",
    "    return result\n",
    "    \n",
    "get_recommend_item(critics,similar_items,'Toby')"
   ]
  },
  {
   "cell_type": "markdown",
   "metadata": {},
   "source": [
    "# 看结果\n",
    "\n",
    "基于用户的推荐：\n",
    "\n",
    "[(3.457128694491423, 'The Night Listener'), (2.778584003814924, 'Lady in the Water'), (2.422482042361917, 'Just My Luck')]\n",
    "\n",
    "基于物品的推荐：\n",
    "\n",
    "[(3.1667425234070894, 'The Night Listener'), (2.9366294028444346, 'Just My Luck'), (2.868767392626467, 'Lady in the Water')]\n",
    "\n",
    "基于用户的推荐算法在每次需要推荐时，都会将某位用户与其他所有用户进行比较，故而效率低下。而基于物品的推荐算法因为拥有物品相似度数据similar_items（其实，也可以计算用户相似度数据），从而计算起来较快，还有一点，物品间的比较不会像用户间的比较那么频繁。\n",
    "\n",
    "另外，在数据的稀疏性上。对于稀疏数据集，基于物品的过滤方法通常要优于基于用户过滤的算法；而对于密集型数据而言，两者的效果基本上是一致的。"
   ]
  }
 ],
 "metadata": {
  "kernelspec": {
   "display_name": "Python 3",
   "language": "python",
   "name": "python3"
  },
  "language_info": {
   "codemirror_mode": {
    "name": "ipython",
    "version": 3
   },
   "file_extension": ".py",
   "mimetype": "text/x-python",
   "name": "python",
   "nbconvert_exporter": "python",
   "pygments_lexer": "ipython3",
   "version": "3.6.4"
  }
 },
 "nbformat": 4,
 "nbformat_minor": 4
}
