{
 "cells": [
  {
   "cell_type": "code",
   "execution_count": 1,
   "metadata": {},
   "outputs": [],
   "source": [
    "\n",
    "critics={'Lisa Rose': {'Lady in the Water': 2.5, 'Snakes on a Plane': 3.5,\n",
    " 'Just My Luck': 3.0, 'Superman Returns': 3.5, 'You, Me and Dupree': 2.5, \n",
    " 'The Night Listener': 3.0},\n",
    "'Gene Seymour': {'Lady in the Water': 3.0, 'Snakes on a Plane': 3.5, \n",
    " 'Just My Luck': 1.5, 'Superman Returns': 5.0, 'The Night Listener': 3.0, \n",
    " 'You, Me and Dupree': 3.5}, \n",
    "'Michael Phillips': {'Lady in the Water': 2.5, 'Snakes on a Plane': 3.0,\n",
    " 'Superman Returns': 3.5, 'The Night Listener': 4.0},\n",
    "'Claudia Puig': {'Snakes on a Plane': 3.5, 'Just My Luck': 3.0,\n",
    " 'The Night Listener': 4.5, 'Superman Returns': 4.0, \n",
    " 'You, Me and Dupree': 2.5},\n",
    "'Mick LaSalle': {'Lady in the Water': 3.0, 'Snakes on a Plane': 4.0, \n",
    " 'Just My Luck': 2.0, 'Superman Returns': 3.0, 'The Night Listener': 3.0,\n",
    " 'You, Me and Dupree': 2.0}, \n",
    "'Jack Matthews': {'Lady in the Water': 3.0, 'Snakes on a Plane': 4.0,\n",
    " 'The Night Listener': 3.0, 'Superman Returns': 5.0, 'You, Me and Dupree': 3.5},\n",
    "'Toby': {'Snakes on a Plane':4.5,'You, Me and Dupree':1.0,'Superman Returns':4.0}}"
   ]
  },
  {
   "cell_type": "markdown",
   "metadata": {},
   "source": [
    "# Finding similar users\n",
    "\n",
    "Q:用什么算法衡量两个用户的相似性？\n",
    "A:欧几里得距离评价 或 皮尔逊相关度评价，当然还有其他算法，如Jaccard系数或曼哈顿距离算法\n",
    "\n",
    "Q:皮尔逊相关度的优点\n",
    "A:在数据不是很规范时（比如影评者对影片的评价总是高于平均水平）也能给出较好的结果"
   ]
  },
  {
   "cell_type": "code",
   "execution_count": 2,
   "metadata": {},
   "outputs": [
    {
     "data": {
      "text/plain": [
       "0.3483314773547883"
      ]
     },
     "execution_count": 2,
     "metadata": {},
     "output_type": "execute_result"
    }
   ],
   "source": [
    "'''\n",
    "Euclidean Distance Score:欧几里得距离评价\n",
    "'''\n",
    "from math import sqrt\n",
    "def sim_distance(critics_data,user1,user2):\n",
    "    shared_item = []\n",
    "    for item in critics_data[user1]:\n",
    "        if item in critics_data[user2]:\n",
    "            shared_item.append(item)\n",
    "\n",
    "    if len(shared_item) == 0:\n",
    "        return 0\n",
    "    \n",
    "    sum_of_squares = sum([pow(critics_data[user1][item] - critics_data[user2][item],2) for item in shared_item])\n",
    "    return 1/(1+sqrt(sum_of_squares))\n",
    "\n",
    "sim_distance(critics,'Lisa Rose','Toby')"
   ]
  },
  {
   "cell_type": "code",
   "execution_count": 3,
   "metadata": {},
   "outputs": [
    {
     "data": {
      "text/plain": [
       "0.3483314773547883"
      ]
     },
     "execution_count": 3,
     "metadata": {},
     "output_type": "execute_result"
    }
   ],
   "source": [
    "from math import sqrt\n",
    "def sim_all_distance(critics_data,user1,user2):\n",
    "    all_item = set()\n",
    "    user1_item = set(critics_data[user1].keys())\n",
    "    user2_item = set(critics_data[user2].keys())\n",
    "    \n",
    "    all_item = user1_item & user2_item\n",
    "    \n",
    "    if len(all_item) == 0:\n",
    "        return 0\n",
    "    \n",
    "    sum_of_squares = sum([pow(critics_data[user1][item] - critics_data[user2][item],2) for item in all_item])\n",
    "    return 1/(1+sqrt(sum_of_squares))\n",
    "    \n",
    "sim_all_distance(critics,'Lisa Rose','Toby')"
   ]
  },
  {
   "cell_type": "code",
   "execution_count": 4,
   "metadata": {},
   "outputs": [
    {
     "data": {
      "text/plain": [
       "0.39605901719066977"
      ]
     },
     "execution_count": 4,
     "metadata": {},
     "output_type": "execute_result"
    }
   ],
   "source": [
    "'''\n",
    "Pearson Correlation Score - 皮尔逊相关度评价\n",
    "\n",
    "该函数返回一个介于-1和1之间的数值，值为1则表明两个人相关度较高，So 0和-1都代表什么？\n",
    "'''\n",
    "\n",
    "def sim_pearson(critics_data,user1,user2):\n",
    "    shared_item = set()\n",
    "    user1_item = set(critics_data[user1].keys())\n",
    "    user2_item = set(critics_data[user2].keys())\n",
    "    \n",
    "    shared_item = user1_item & user2_item\n",
    "    shared_count = len(shared_item)\n",
    "    \n",
    "    if shared_count == 0:\n",
    "        return 0\n",
    "    \n",
    "    sum_user1 = sum([critics_data[user1][item] for item in shared_item])\n",
    "    sum_user2 = sum([critics_data[user2][item] for item in shared_item])\n",
    "    \n",
    "    sum_user1_square = sum([pow(critics_data[user1][item],2) for item in shared_item])\n",
    "    sum_user2_square = sum([pow(critics_data[user2][item],2) for item in shared_item])\n",
    "    \n",
    "    sum_total_square = sum([critics_data[user1][item] * critics_data[user2][item] for item in shared_item])\n",
    "    \n",
    "    num = sum_total_square - (sum_user1*sum_user2/shared_count)\n",
    "    den = sqrt( (sum_user1_square - pow(sum_user1,2)/shared_count) * (sum_user2_square - pow(sum_user2,2)/shared_count))\n",
    "    if den == 0:\n",
    "        return 0\n",
    "    return num/den\n",
    "\n",
    "sim_pearson(critics,'Lisa Rose','Gene Seymour')"
   ]
  },
  {
   "cell_type": "code",
   "execution_count": 6,
   "metadata": {},
   "outputs": [
    {
     "name": "stdout",
     "output_type": "stream",
     "text": [
      "[(0.9912407071619299, 'Toby'), (0.7470178808339965, 'Jack Matthews'), (0.5940885257860044, 'Mick LaSalle')]\n",
      "\n",
      "[(0.4721359549995794, 'Michael Phillips'), (0.4142135623730951, 'Mick LaSalle'), (0.38742588672279304, 'Claudia Puig')]\n"
     ]
    }
   ],
   "source": [
    "'''\n",
    "获取指定用户的推荐者列表\n",
    "'''\n",
    "def top_matches(critics_data,user1,top_n,core=sim_pearson):\n",
    "    \n",
    "    '''\n",
    "    if core == 'sim_pearson':\n",
    "        scores = [(core(critics_data,user1,user_other),user_other) for user_other in critics_data.keys() if user_other != user1]\n",
    "        \n",
    "    if core == 'sim_distance':\n",
    "        scores = [(sim_distance(critics_data,user1,user_other),user_other) for user_other in critics_data.keys() if user_other != user1]\n",
    "    '''\n",
    "    scores = [(core(critics_data,user1,user_other),user_other) for user_other in critics_data.keys() if user_other != user1]\n",
    "    return sorted(scores, key=lambda x:x[0], reverse=True)[:top_n]\n",
    "    \n",
    "print(top_matches(critics,'Lisa Rose',3,sim_pearson))\n",
    "print()\n",
    "print(top_matches(critics,'Lisa Rose',3,sim_distance))"
   ]
  }
 ],
 "metadata": {
  "kernelspec": {
   "display_name": "Python 3",
   "language": "python",
   "name": "python3"
  },
  "language_info": {
   "codemirror_mode": {
    "name": "ipython",
    "version": 3
   },
   "file_extension": ".py",
   "mimetype": "text/x-python",
   "name": "python",
   "nbconvert_exporter": "python",
   "pygments_lexer": "ipython3",
   "version": "3.6.4"
  }
 },
 "nbformat": 4,
 "nbformat_minor": 4
}
